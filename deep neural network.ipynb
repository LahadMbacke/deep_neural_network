{
 "cells": [
  {
   "cell_type": "code",
   "execution_count": 132,
   "metadata": {},
   "outputs": [],
   "source": [
    "import numpy as np\n",
    "import matplotlib.pyplot as plt\n",
    "from sklearn.datasets import make_blobs, make_circles\n",
    "from tqdm import tqdm\n"
   ]
  },
  {
   "cell_type": "code",
   "execution_count": 133,
   "metadata": {},
   "outputs": [
    {
     "name": "stdout",
     "output_type": "stream",
     "text": [
      "dimensions de X: (2, 100)\n",
      "dimensions de y: (1, 100)\n"
     ]
    },
    {
     "data": {
      "image/png": "[encoded data removed]",
      "text/plain": [
       "<Figure size 432x288 with 1 Axes>"
      ]
     },
     "metadata": {
      "needs_background": "light"
     },
     "output_type": "display_data"
    }
   ],
   "source": [
    "X, y = make_circles(n_samples=100, noise=0.1, factor=0.3, random_state=0)\n",
    "X = X.T\n",
    "y = y.reshape((1, y.shape[0]))\n",
    "\n",
    "print('dimensions de X:', X.shape)\n",
    "print('dimensions de y:', y.shape)\n",
    "\n",
    "plt.scatter(X[0, :], X[1, :], c=y, cmap='summer')\n",
    "plt.show()"
   ]
  },
  {
   "cell_type": "code",
   "execution_count": 134,
   "metadata": {},
   "outputs": [],
   "source": [
    "def init(dimensions):\n",
    "    params = {} #dictionnaire Vide\n",
    "    C = len(dimensions)\n",
    "\n",
    "    for i in range(1,C):\n",
    "        params['W' + str(i)] = np.random.randn(dimensions[i],dimensions[i-1])\n",
    "        params['b' + str(i)] = np.random.randn(dimensions[i],1)\n",
    "    return params"
   ]
  },
  {
   "cell_type": "code",
   "execution_count": 135,
   "metadata": {},
   "outputs": [
    {
     "data": {
      "text/plain": [
       "' \\nparams = init([2,16,32,1])\\n\\nfor key,val in params.items():\\n    print(key,val.shape)\\n'"
      ]
     },
     "execution_count": 135,
     "metadata": {},
     "output_type": "execute_result"
    }
   ],
   "source": [
    "\n",
    "\"\"\" \n",
    "params = init([2,16,32,1])\n",
    "\n",
    "for key,val in params.items():\n",
    "    print(key,val.shape)\n",
    "\"\"\""
   ]
  },
  {
   "cell_type": "code",
   "execution_count": 136,
   "metadata": {},
   "outputs": [],
   "source": [
    "def forward_propogataion(X,params):\n",
    "    activations = {\"A0\" : X}\n",
    "    C = len(params) // 2\n",
    "\n",
    "    for i in range(1, C + 1):\n",
    "        Z = params[\"W\" + str(i)].dot(activations[\"A\" + str(i - 1)]) + params[\"b\" + str(i)]\n",
    "        activations[\"A\" + str(i)] = 1 / (1 + np.exp(-Z))\n",
    "    return activations"
   ]
  },
  {
   "cell_type": "code",
   "execution_count": 137,
   "metadata": {},
   "outputs": [
    {
     "data": {
      "text/plain": [
       "'\\nactivations = forward_propogataion(X,params)\\n\\nfor key,val in activations.items():\\n    print(key,val.shape)\\n'"
      ]
     },
     "execution_count": 137,
     "metadata": {},
     "output_type": "execute_result"
    }
   ],
   "source": [
    "\"\"\"\n",
    "activations = forward_propogataion(X,params)\n",
    "\n",
    "for key,val in activations.items():\n",
    "    print(key,val.shape)\n",
    "\"\"\""
   ]
  },
  {
   "cell_type": "code",
   "execution_count": 138,
   "metadata": {},
   "outputs": [],
   "source": [
    "def back_propogation(activations,params,y):\n",
    "    m = y.shape[1]\n",
    "    C = len(params) // 2\n",
    "    dz = activations[\"A\" + str(C)] - y\n",
    "    gradients = {}\n",
    "\n",
    "    for i in reversed(range(1 , C + 1)):\n",
    "        gradients[\"dW\" + str(i)] = 1 / m * np.dot(dz,activations[\"A\" + str(i-1)].T)\n",
    "        gradients[\"db\" + str(i)] = 1 / m * np.sum(dz,axis=1,keepdims=True)\n",
    "        dz = np.dot(params[\"W\" + str(i)].T , dz) * activations[\"A\" + str(i - 1)] * (1 - activations[\"A\" + str(i -1)])\n",
    "    return gradients\n"
   ]
  },
  {
   "cell_type": "code",
   "execution_count": 139,
   "metadata": {},
   "outputs": [
    {
     "data": {
      "text/plain": [
       "'\\ngradients = back_propogation(activations,params,y)\\n\\nfor key,val in gradients.items():\\n    print(key,val.shape)\\n'"
      ]
     },
     "execution_count": 139,
     "metadata": {},
     "output_type": "execute_result"
    }
   ],
   "source": [
    "\"\"\"\n",
    "gradients = back_propogation(activations,params,y)\n",
    "\n",
    "for key,val in gradients.items():\n",
    "    print(key,val.shape)\n",
    "\"\"\""
   ]
  },
  {
   "cell_type": "code",
   "execution_count": 140,
   "metadata": {},
   "outputs": [],
   "source": [
    "def update(params,gradients,learning_rate):\n",
    "\n",
    "    C = len(params) // 2\n",
    "\n",
    "    for i in range(1 , C + 1):\n",
    "        params[\"W\" + str(i)] = params[\"W\" + str(i)] - learning_rate * gradients[\"dW\" + str(i)]\n",
    "        params[\"b\" + str(i)] = params[\"b\" + str(i)] - learning_rate * gradients[\"db\" + str(i)]\n",
    "    return params"
   ]
  },
  {
   "cell_type": "code",
   "execution_count": 141,
   "metadata": {},
   "outputs": [],
   "source": [
    "def cout(A,y):\n",
    "    epsilon = 1e-15\n",
    "    return 1 / len(y) * np.sum(-y * np.log(A + epsilon) - (1 - y) * np.log(1 - A + epsilon))\n"
   ]
  },
  {
   "cell_type": "code",
   "execution_count": 142,
   "metadata": {},
   "outputs": [],
   "source": [
    "def prediction(X,params):\n",
    "    activations = forward_propogataion(X,params)\n",
    "    C = len(params) // 2\n",
    "    A_fin =  activations[\"A\" + str(C)]\n",
    "\n",
    "    return A_fin >= 0.5"
   ]
  },
  {
   "cell_type": "code",
   "execution_count": 143,
   "metadata": {},
   "outputs": [
    {
     "data": {
      "text/plain": [
       "'\\nparams = update(params,gradients,0.1)\\n\\nfor key,val in params.items():\\n    print(key,val.shape)\\n'"
      ]
     },
     "execution_count": 143,
     "metadata": {},
     "output_type": "execute_result"
    }
   ],
   "source": [
    "\"\"\"\n",
    "params = update(params,gradients,0.1)\n",
    "\n",
    "for key,val in params.items():\n",
    "    print(key,val.shape)\n",
    "\"\"\""
   ]
  },
  {
   "cell_type": "code",
   "execution_count": 144,
   "metadata": {},
   "outputs": [],
   "source": [
    "def deep_neural_network(X,y,couche_cachee = (10,15,20),learning_rate = 0.1,epoche =100):\n",
    "    entree = X.shape[0] \n",
    "    sorti = y.shape[0]\n",
    "    dimension  = list(couche_cachee)\n",
    "    dimension.insert(0,entree) # on ajoute la dimension des entree\n",
    "    dimension.insert(-1,sorti) # on ajoute la dimension de la sortie\n",
    "\n",
    "    params = init(dimension) # on intialise les poids et bias de notre reseau de neurone\n",
    "    loss = []\n",
    "    C = len(params) // 2\n",
    "    for i in tqdm(range(epoche)):\n",
    "        activations = forward_propogataion(X,params) # Propogation en avant\n",
    "        A_fin = activations[\"A\" + str(C)] # la sortie de la dernier fonction d'acivation\n",
    "        loss.append(cout(A_fin,y))\n",
    "        gradients = back_propogation(activations,params,y) #Propogation en arriere\n",
    "        params = update(params,gradients,learning_rate) # Mis ajour des poids apres avoir calculer le gradient\n",
    "\n",
    "    plt.plot(loss, label='train loss')\n",
    "    plt.legend()\n"
   ]
  },
  {
   "cell_type": "code",
   "execution_count": 145,
   "metadata": {},
   "outputs": [
    {
     "name": "stderr",
     "output_type": "stream",
     "text": [
      "100%|██████████| 100/100 [00:00<00:00, 2436.20it/s]\n"
     ]
    },
    {
     "data": {
      "image/png": "[encoded data removed]",
      "text/plain": [
       "<Figure size 432x288 with 1 Axes>"
      ]
     },
     "metadata": {
      "needs_background": "light"
     },
     "output_type": "display_data"
    }
   ],
   "source": [
    "deep_neural_network(X,y)"
   ]
  }
 ],
 "metadata": {
  "kernelspec": {
   "display_name": "Python 3",
   "language": "python",
   "name": "python3"
  },
  "language_info": {
   "codemirror_mode": {
    "name": "ipython",
    "version": 3
   },
   "file_extension": ".py",
   "mimetype": "text/x-python",
   "name": "python",
   "nbconvert_exporter": "python",
   "pygments_lexer": "ipython3",
   "version": "3.10.6"
  },
  "orig_nbformat": 4
 },
 "nbformat": 4,
 "nbformat_minor": 2
}
